{
 "cells": [
  {
   "cell_type": "code",
   "execution_count": 1,
   "metadata": {},
   "outputs": [
    {
     "ename": "ModuleNotFoundError",
     "evalue": "No module named 'seaborn'",
     "output_type": "error",
     "traceback": [
      "\u001b[0;31m---------------------------------------------------------------------------\u001b[0m",
      "\u001b[0;31mModuleNotFoundError\u001b[0m                       Traceback (most recent call last)",
      "Cell \u001b[0;32mIn[1], line 5\u001b[0m\n\u001b[1;32m      3\u001b[0m \u001b[38;5;28;01mimport\u001b[39;00m \u001b[38;5;21;01mnumpy\u001b[39;00m \u001b[38;5;28;01mas\u001b[39;00m \u001b[38;5;21;01mnp\u001b[39;00m\n\u001b[1;32m      4\u001b[0m \u001b[38;5;28;01mimport\u001b[39;00m \u001b[38;5;21;01mmatplotlib\u001b[39;00m\u001b[38;5;21;01m.\u001b[39;00m\u001b[38;5;21;01mpyplot\u001b[39;00m \u001b[38;5;28;01mas\u001b[39;00m \u001b[38;5;21;01mplt\u001b[39;00m\n\u001b[0;32m----> 5\u001b[0m \u001b[38;5;28;01mimport\u001b[39;00m \u001b[38;5;21;01mseaborn\u001b[39;00m \u001b[38;5;28;01mas\u001b[39;00m \u001b[38;5;21;01msns\u001b[39;00m\n\u001b[1;32m      6\u001b[0m \u001b[38;5;28;01mfrom\u001b[39;00m \u001b[38;5;21;01mscipy\u001b[39;00m \u001b[38;5;28;01mimport\u001b[39;00m ndimage \u001b[38;5;28;01mas\u001b[39;00m ndi\n\u001b[1;32m      8\u001b[0m \u001b[38;5;28;01mfrom\u001b[39;00m \u001b[38;5;21;01mscipy\u001b[39;00m\u001b[38;5;21;01m.\u001b[39;00m\u001b[38;5;21;01mndimage\u001b[39;00m \u001b[38;5;28;01mimport\u001b[39;00m label, generate_binary_structure\n",
      "\u001b[0;31mModuleNotFoundError\u001b[0m: No module named 'seaborn'"
     ]
    }
   ],
   "source": [
    "import os\n",
    "import pandas as pd\n",
    "import numpy as np\n",
    "import matplotlib.pyplot as plt\n",
    "import seaborn as sns\n",
    "from scipy import ndimage as ndi\n",
    "\n",
    "from scipy.ndimage import label, generate_binary_structure\n",
    "from sklearn.metrics.pairwise import euclidean_distances"
   ]
  },
  {
   "cell_type": "code",
   "execution_count": null,
   "metadata": {},
   "outputs": [],
   "source": [
    "os.getcwd()"
   ]
  },
  {
   "cell_type": "code",
   "execution_count": null,
   "metadata": {},
   "outputs": [],
   "source": [
    "IMAGE_DIR = '/home/LUNG_DATA/Image_1'\n",
    "MASK_DIR = '/home/LUNG_DATA/Mask_1'\n",
    "CLEAN_DIR_IMG ='/home/LUNG_DATA/Clean/Image_1'\n",
    "CLEAN_DIR_MASK ='/home/LUNG_DATA/Clean/Mask_1'\n",
    "PREDICT_DIR = '/home/LUNG_DATA/Segmentation_output/UNET_base/'"
   ]
  },
  {
   "cell_type": "code",
   "execution_count": null,
   "metadata": {},
   "outputs": [],
   "source": [
    "pid_list = os.listdir(PREDICT_DIR)[:10]"
   ]
  },
  {
   "cell_type": "code",
   "execution_count": null,
   "metadata": {},
   "outputs": [],
   "source": [
    "pid_list[0]"
   ]
  },
  {
   "cell_type": "code",
   "execution_count": null,
   "metadata": {},
   "outputs": [],
   "source": [
    "def view_img(MASK_DIR,PREDICT_DIR,IMAGE_DIR):\n",
    "    \n",
    "    for prediction in os.listdir(PREDICT_DIR)[30:60]:\n",
    "        pid = 'LIDC-IDRI-'+prediction[:4]\n",
    "        mask_id = prediction.replace('PD','MA')\n",
    "        image_id = prediction.replace('PD','NI')\n",
    "        \n",
    "        original_img= np.load(IMAGE_DIR+'/'+pid+'/'+image_id)\n",
    "        mask_img= np.load(MASK_DIR+'/'+pid+'/'+mask_id)\n",
    "        predict_mask =np.load(PREDICT_DIR+'/'+prediction)\n",
    "\n",
    "        fig,ax = plt.subplots(1,3, figsize=(15,15))\n",
    "        print(pid,prediction)\n",
    "        ax[0].title.set_text('Original image')\n",
    "        ax[0].imshow(original_img)\n",
    "        ax[0].grid()\n",
    "        ax[1].title.set_text('Mask image')\n",
    "        ax[1].imshow(mask_img)\n",
    "        ax[1].grid()\n",
    "        ax[2].title.set_text('Predicted Mask image')\n",
    "        ax[2].imshow(predict_mask)\n",
    "        ax[2].grid()\n",
    "        plt.show()\n"
   ]
  },
  {
   "cell_type": "code",
   "execution_count": null,
   "metadata": {},
   "outputs": [],
   "source": [
    "view_img(MASK_DIR,PREDICT_DIR,IMAGE_DIR)"
   ]
  },
  {
   "cell_type": "code",
   "execution_count": null,
   "metadata": {},
   "outputs": [],
   "source": [
    "0018_PD000_slice002.npy"
   ]
  },
  {
   "cell_type": "code",
   "execution_count": null,
   "metadata": {},
   "outputs": [],
   "source": [
    "#original = np.load(IMAGE_DIR+'/LIDC-IDRI-0018/0008_NI000_slice002.npy')\n",
    "predict = np.load(PREDICT_DIR+'0018_PD000_slice002.npy')\n",
    "answer = np.load(MASK_DIR+'/LIDC-IDRI-0018/0018_MA000_slice002.npy')"
   ]
  },
  {
   "cell_type": "code",
   "execution_count": null,
   "metadata": {},
   "outputs": [],
   "source": [
    "fig,ax = plt.subplots(1,3, figsize=(15,15))\n",
    "ax[0].title.set_text('Original image')\n",
    "ax[0].imshow(original)\n",
    "ax[0].grid()\n",
    "ax[1].title.set_text('Actual Mask image')\n",
    "ax[1].imshow(answer)\n",
    "ax[1].grid()\n",
    "ax[2].title.set_text('Predicted Mask image')\n",
    "ax[2].imshow(predict)\n",
    "ax[2].grid()\n",
    "plt.savefig(\"prediction_distance_comparison.png\",dpi=300)\n",
    "plt.show()"
   ]
  },
  {
   "cell_type": "code",
   "execution_count": null,
   "metadata": {},
   "outputs": [],
   "source": [
    "ndi.center_of_mass(predict)[0]==np.nan"
   ]
  },
  {
   "cell_type": "code",
   "execution_count": null,
   "metadata": {},
   "outputs": [],
   "source": [
    "np.isnan(ndi.center_of_mass(predict)[0])"
   ]
  },
  {
   "cell_type": "code",
   "execution_count": null,
   "metadata": {},
   "outputs": [],
   "source": [
    "plt.imshow(predict)"
   ]
  },
  {
   "cell_type": "code",
   "execution_count": null,
   "metadata": {},
   "outputs": [],
   "source": [
    "s = generate_binary_structure(2,2)"
   ]
  },
  {
   "cell_type": "code",
   "execution_count": null,
   "metadata": {},
   "outputs": [],
   "source": [
    "labeled_array, num_features = label(predict, structure=s)"
   ]
  },
  {
   "cell_type": "code",
   "execution_count": null,
   "metadata": {},
   "outputs": [],
   "source": [
    "num_features"
   ]
  },
  {
   "cell_type": "code",
   "execution_count": null,
   "metadata": {},
   "outputs": [],
   "source": [
    "labeled_array"
   ]
  },
  {
   "cell_type": "code",
   "execution_count": null,
   "metadata": {},
   "outputs": [],
   "source": [
    "n=1\n",
    "lab=np.array(labeled_array)\n",
    "lab[lab!=(n+1)]=0\n",
    "lab[lab==(n+1)]=1"
   ]
  },
  {
   "cell_type": "code",
   "execution_count": null,
   "metadata": {},
   "outputs": [],
   "source": [
    "plt.imshow(lab)"
   ]
  },
  {
   "cell_type": "code",
   "execution_count": null,
   "metadata": {},
   "outputs": [],
   "source": [
    "plt.imshow(answer)"
   ]
  },
  {
   "cell_type": "code",
   "execution_count": null,
   "metadata": {},
   "outputs": [],
   "source": [
    "np.sum(lab)"
   ]
  },
  {
   "cell_type": "code",
   "execution_count": null,
   "metadata": {},
   "outputs": [],
   "source": [
    "com= ndi.center_of_mass(lab)\n",
    "com"
   ]
  },
  {
   "cell_type": "code",
   "execution_count": null,
   "metadata": {},
   "outputs": [],
   "source": [
    "com_answer= ndi.center_of_mass(answer)"
   ]
  },
  {
   "cell_type": "code",
   "execution_count": null,
   "metadata": {},
   "outputs": [],
   "source": [
    "com_answer"
   ]
  },
  {
   "cell_type": "code",
   "execution_count": null,
   "metadata": {},
   "outputs": [],
   "source": [
    "np.linalg.norm(np.array(com)-np.array(com_answer),2)"
   ]
  },
  {
   "cell_type": "code",
   "execution_count": null,
   "metadata": {},
   "outputs": [],
   "source": [
    "def calculate_fp(prediction_dir,mask_dir,distance_threshold=80):\n",
    "    \"\"\"This calculates the fp by comparing the predicted mask and orginal mask\"\"\"\n",
    "    #TP,TN,FP,FN\n",
    "    #FN will always be zero here as all the mask contains a nodule\n",
    "    confusion_matrix =[0,0,0,0]\n",
    "    s = generate_binary_structure(2,2)\n",
    "    for prediction in os.listdir(PREDICT_DIR)[:10]:\n",
    "        #print(confusion_matrix)\n",
    "        pid = 'LIDC-IDRI-'+prediction[:4]\n",
    "        mask_id = prediction.replace('PD','MA')\n",
    "        mask = np.load(mask_dir+'/'+pid+'/'+mask_id)\n",
    "        predict = np.load(prediction_dir+prediction)\n",
    "        answer_com = np.array(ndi.center_of_mass(mask))\n",
    "        # Patience is used to check if the patch has cropped the same image\n",
    "        patience =0\n",
    "        labeled_array, nf = label(predict, structure=s)\n",
    "        if nf>0:\n",
    "            for n in range(nf):\n",
    "                lab=np.array(labeled_array)\n",
    "                lab[lab!=(n+1)]=0\n",
    "                lab[lab==(n+1)]=1\n",
    "                predict_com=np.array(ndi.center_of_mass(labeled_array))\n",
    "                if np.linalg.norm(predict_com-answer_com,2) < distance_threshold:\n",
    "                    if patience != 0:\n",
    "                        #print(\"HIT\")\n",
    "                        continue\n",
    "                    # add true positive\n",
    "                    confusion_matrix[0]+=1\n",
    "                    patience +=1\n",
    "                else:\n",
    "                    confusion_matrix[2]+=1\n",
    "                \n",
    "        else:\n",
    "            # Add True Negative since the UNET didn't detect a cancer even when there was one\n",
    "            confusion_matrix[1]+=1\n",
    "        \n",
    "    return confusion_matrix\n",
    "        \n",
    "        #[1848, 719, 1309, 0]"
   ]
  },
  {
   "cell_type": "code",
   "execution_count": null,
   "metadata": {},
   "outputs": [],
   "source": [
    "confusion_matrix = calculate_fp(PREDICT_DIR,MASK_DIR,distance_threshold=60)"
   ]
  },
  {
   "cell_type": "code",
   "execution_count": null,
   "metadata": {},
   "outputs": [],
   "source": [
    "confusion_matrix"
   ]
  },
  {
   "cell_type": "code",
   "execution_count": null,
   "metadata": {},
   "outputs": [],
   "source": [
    "confusion_matrix =[0,0,0,0]"
   ]
  },
  {
   "cell_type": "code",
   "execution_count": null,
   "metadata": {},
   "outputs": [],
   "source": [
    "np.sum(testing)"
   ]
  },
  {
   "cell_type": "code",
   "execution_count": null,
   "metadata": {},
   "outputs": [],
   "source": [
    "ndi.center_of_mass(mask)"
   ]
  },
  {
   "cell_type": "code",
   "execution_count": null,
   "metadata": {},
   "outputs": [],
   "source": [
    "ndi.center_of_mass(predict)"
   ]
  },
  {
   "cell_type": "code",
   "execution_count": null,
   "metadata": {},
   "outputs": [],
   "source": [
    "def crop_patch(image,mask):\n",
    "    return crop_nodule(ndi.center_of_mass(mask),image)\n",
    "    "
   ]
  },
  {
   "cell_type": "code",
   "execution_count": null,
   "metadata": {},
   "outputs": [],
   "source": [
    "patch= crop_patch(original,mask)"
   ]
  },
  {
   "cell_type": "code",
   "execution_count": null,
   "metadata": {},
   "outputs": [],
   "source": [
    "plt.imshow(patch)"
   ]
  },
  {
   "cell_type": "code",
   "execution_count": null,
   "metadata": {},
   "outputs": [],
   "source": [
    "from scipy import signal\n",
    "\n",
    "xder = np.array([[-1,0,1],[-2,0,2],[-1,0,1]])\n",
    "yder = np.array([[1,2,1],[0,0,0],[-1,-2,-1]])\n",
    "smooth = np.array([[1,1,1],[1,5,1],[1,1,1]])\n",
    "xder2 = np.array([[-1,2,-1],[-3,6,-3],[-1,2,-1]])\n",
    "yder2 = np.array([[-1,-3,-1],[2,6,2],[-1,-3,-1]])"
   ]
  },
  {
   "cell_type": "code",
   "execution_count": null,
   "metadata": {},
   "outputs": [],
   "source": [
    "plt.imshow(signal.convolve2d(patch,smooth,mode='valid'))"
   ]
  },
  {
   "cell_type": "code",
   "execution_count": null,
   "metadata": {},
   "outputs": [],
   "source": [
    "plt.imshow(signal.convolve2d(patch,xder,mode='valid'))"
   ]
  },
  {
   "cell_type": "code",
   "execution_count": null,
   "metadata": {},
   "outputs": [],
   "source": [
    "plt.imshow(signal.convolve2d(patch,yder,mode='valid'))"
   ]
  },
  {
   "cell_type": "code",
   "execution_count": null,
   "metadata": {},
   "outputs": [],
   "source": [
    "plt.imshow(signal.convolve2d(patch,yder2,mode='valid'))"
   ]
  },
  {
   "cell_type": "code",
   "execution_count": null,
   "metadata": {},
   "outputs": [],
   "source": [
    "arrx = signal.convolve2d(patch,xder,mode='valid')\n",
    "arry = signal.convolve2d(patch,yder,mode='valid')\n",
    "plt.imshow(np.hypot(arrx,arry))"
   ]
  },
  {
   "cell_type": "code",
   "execution_count": null,
   "metadata": {},
   "outputs": [],
   "source": [
    "arrx = signal.convolve2d(patch,xder2,mode='valid')\n",
    "arry = signal.convolve2d(patch,yder2,mode='valid')\n",
    "plt.imshow(np.hypot(arrx,arry))"
   ]
  },
  {
   "cell_type": "code",
   "execution_count": null,
   "metadata": {},
   "outputs": [],
   "source": [
    "arrx = signal.convolve2d(patch,xder,mode='valid')\n",
    "arry = signal.convolve2d(patch,yder,mode='valid')\n",
    "arrx = signal.convolve2d(arrx,yder,mode='valid')\n",
    "arry = signal.convolve2d(arry,xder,mode='valid')\n",
    "plt.imshow(np.hypot(arrx,arry))"
   ]
  },
  {
   "cell_type": "code",
   "execution_count": null,
   "metadata": {},
   "outputs": [],
   "source": [
    "def create_tp_coordinates(mask_answer_dir,patient_list):\n",
    "    \"\"\" Creates dataframe storing TP coordinates\"\"\"\n",
    "    df= pd.DataFrame(index=[],columns= ['file_name','nodule_no','tp_x_coord','tp_y_coord'])\n",
    "    \n",
    "    for file in patient_list:\n",
    "        mask = np.load(mask_answer_dir+file)        \n",
    "        try:\n",
    "            com = ndi.center_of_mass(mask)\n",
    "            tmp = pd.Series([file,1,int(com[1]),int(com[0])],index=['file_name','nodule_no','tp_x_coord','tp_y_coord'])\n",
    "            df = df.append(tmp,ignore_index=True)\n",
    "        except ValueError:\n",
    "            #ValueError occurs because the answer sheet doesn't contain any nodule\n",
    "            #There are answer sheet like these because the U-Net predicted there is a nodule\n",
    "            continue\n",
    "            \n",
    "    return df"
   ]
  }
 ],
 "metadata": {
  "kernelspec": {
   "display_name": "Python 3",
   "language": "python",
   "name": "python3"
  },
  "language_info": {
   "codemirror_mode": {
    "name": "ipython",
    "version": 3
   },
   "file_extension": ".py",
   "mimetype": "text/x-python",
   "name": "python",
   "nbconvert_exporter": "python",
   "pygments_lexer": "ipython3",
   "version": "3.11.7"
  }
 },
 "nbformat": 4,
 "nbformat_minor": 2
}
